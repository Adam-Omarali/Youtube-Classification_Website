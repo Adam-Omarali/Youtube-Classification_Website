{
 "cells": [
  {
   "cell_type": "markdown",
   "metadata": {},
   "source": [
    "# Youtube Title Classification Project\n",
    "Adam Omarali <br>\n",
    "2020-01-19"
   ]
  },
  {
   "cell_type": "code",
   "execution_count": 24,
   "metadata": {},
   "outputs": [],
   "source": [
    "import csv\n",
    "import torch\n",
    "import torch.nn as nn\n",
    "import torch.nn.functional as F\n",
    "import torch.optim as optim\n",
    "import torchtext\n",
    "import numpy as np\n",
    "import matplotlib.pyplot as plt\n",
    "import pandas as pd "
   ]
  },
  {
   "cell_type": "markdown",
   "metadata": {},
   "source": [
    "### Load Data"
   ]
  },
  {
   "cell_type": "code",
   "execution_count": 10,
   "metadata": {},
   "outputs": [
    {
     "data": {
      "text/html": [
       "<div>\n",
       "<style scoped>\n",
       "    .dataframe tbody tr th:only-of-type {\n",
       "        vertical-align: middle;\n",
       "    }\n",
       "\n",
       "    .dataframe tbody tr th {\n",
       "        vertical-align: top;\n",
       "    }\n",
       "\n",
       "    .dataframe thead th {\n",
       "        text-align: right;\n",
       "    }\n",
       "</style>\n",
       "<table border=\"1\" class=\"dataframe\">\n",
       "  <thead>\n",
       "    <tr style=\"text-align: right;\">\n",
       "      <th></th>\n",
       "      <th>productiveunproductive</th>\n",
       "      <th>youtubetitle</th>\n",
       "    </tr>\n",
       "  </thead>\n",
       "  <tbody>\n",
       "    <tr>\n",
       "      <td>0</td>\n",
       "      <td>1</td>\n",
       "      <td>Top 7 genius ideas.</td>\n",
       "    </tr>\n",
       "    <tr>\n",
       "      <td>1</td>\n",
       "      <td>0</td>\n",
       "      <td>Rare Video: Japan Tsunami | National Geographic</td>\n",
       "    </tr>\n",
       "    <tr>\n",
       "      <td>2</td>\n",
       "      <td>0</td>\n",
       "      <td>The Year the Earth Went Wild - Natural Disasters</td>\n",
       "    </tr>\n",
       "    <tr>\n",
       "      <td>3</td>\n",
       "      <td>0</td>\n",
       "      <td>Trevor Noah - Most Viewed Videos of 2019 (So Far)</td>\n",
       "    </tr>\n",
       "    <tr>\n",
       "      <td>4</td>\n",
       "      <td>1</td>\n",
       "      <td>The power of the placebo effect - Emma Bryce</td>\n",
       "    </tr>\n",
       "  </tbody>\n",
       "</table>\n",
       "</div>"
      ],
      "text/plain": [
       "   productiveunproductive                                       youtubetitle\n",
       "0                       1                                Top 7 genius ideas.\n",
       "1                       0    Rare Video: Japan Tsunami | National Geographic\n",
       "2                       0   The Year the Earth Went Wild - Natural Disasters\n",
       "3                       0  Trevor Noah - Most Viewed Videos of 2019 (So Far)\n",
       "4                       1       The power of the placebo effect - Emma Bryce"
      ]
     },
     "execution_count": 10,
     "metadata": {},
     "output_type": "execute_result"
    }
   ],
   "source": [
    "# import the data from local into the notebook\n",
    "\n",
    "def get_data():\n",
    "        return csv.reader(open(\"reviews.csv\", \n",
    "                           \"rt\", encoding=\"latin-1\"))\n",
    "\n",
    "# Get the data into a dataframe \n",
    "df = pd.read_csv(\"reviews.csv\") \n",
    "\n",
    "# Explore the head of the data \n",
    "df.head() "
   ]
  },
  {
   "cell_type": "markdown",
   "metadata": {},
   "source": [
    "### Tokenize the Data \n"
   ]
  },
  {
   "cell_type": "code",
   "execution_count": 5,
   "metadata": {},
   "outputs": [
    {
     "data": {
      "text/html": [
       "<div>\n",
       "<style scoped>\n",
       "    .dataframe tbody tr th:only-of-type {\n",
       "        vertical-align: middle;\n",
       "    }\n",
       "\n",
       "    .dataframe tbody tr th {\n",
       "        vertical-align: top;\n",
       "    }\n",
       "\n",
       "    .dataframe thead th {\n",
       "        text-align: right;\n",
       "    }\n",
       "</style>\n",
       "<table border=\"1\" class=\"dataframe\">\n",
       "  <thead>\n",
       "    <tr style=\"text-align: right;\">\n",
       "      <th></th>\n",
       "      <th>productiveunproductive</th>\n",
       "      <th>youtubetitle</th>\n",
       "      <th>tokens</th>\n",
       "    </tr>\n",
       "  </thead>\n",
       "  <tbody>\n",
       "    <tr>\n",
       "      <td>0</td>\n",
       "      <td>1</td>\n",
       "      <td>Top 7 genius ideas.</td>\n",
       "      <td>[top, 7, genius, ideas, .]</td>\n",
       "    </tr>\n",
       "    <tr>\n",
       "      <td>1</td>\n",
       "      <td>0</td>\n",
       "      <td>Rare Video: Japan Tsunami | National Geographic</td>\n",
       "      <td>[rare, video, :, japan, tsunami, |, national, ...</td>\n",
       "    </tr>\n",
       "    <tr>\n",
       "      <td>2</td>\n",
       "      <td>0</td>\n",
       "      <td>The Year the Earth Went Wild - Natural Disasters</td>\n",
       "      <td>[the, year, the, earth, went, wild, -, natural...</td>\n",
       "    </tr>\n",
       "    <tr>\n",
       "      <td>3</td>\n",
       "      <td>0</td>\n",
       "      <td>Trevor Noah - Most Viewed Videos of 2019 (So Far)</td>\n",
       "      <td>[trevor, noah, -, most, viewed, videos, of, 20...</td>\n",
       "    </tr>\n",
       "    <tr>\n",
       "      <td>4</td>\n",
       "      <td>1</td>\n",
       "      <td>The power of the placebo effect - Emma Bryce</td>\n",
       "      <td>[the, power, of, the, placebo, effect, -, emma...</td>\n",
       "    </tr>\n",
       "    <tr>\n",
       "      <td>5</td>\n",
       "      <td>1</td>\n",
       "      <td>The mysterious science of pain - Joshua W. Pate</td>\n",
       "      <td>[the, mysterious, science, of, pain, -, joshua...</td>\n",
       "    </tr>\n",
       "    <tr>\n",
       "      <td>6</td>\n",
       "      <td>1</td>\n",
       "      <td>Would you sacrifice one person to save five? -...</td>\n",
       "      <td>[would, you, sacrifice, one, person, to, save,...</td>\n",
       "    </tr>\n",
       "    <tr>\n",
       "      <td>7</td>\n",
       "      <td>1</td>\n",
       "      <td>How to make your writing funnier - Cheri Stein...</td>\n",
       "      <td>[how, to, make, your, writing, funnier, -, che...</td>\n",
       "    </tr>\n",
       "    <tr>\n",
       "      <td>8</td>\n",
       "      <td>1</td>\n",
       "      <td>How To Fall Asleep In 2 Minutes</td>\n",
       "      <td>[how, to, fall, asleep, in, 2, minutes]</td>\n",
       "    </tr>\n",
       "    <tr>\n",
       "      <td>9</td>\n",
       "      <td>0</td>\n",
       "      <td>Debunking the myths of OCD - Natascha M. Santos</td>\n",
       "      <td>[debunking, the, myths, of, ocd, -, natascha, ...</td>\n",
       "    </tr>\n",
       "  </tbody>\n",
       "</table>\n",
       "</div>"
      ],
      "text/plain": [
       "   productiveunproductive                                       youtubetitle  \\\n",
       "0                       1                                Top 7 genius ideas.   \n",
       "1                       0    Rare Video: Japan Tsunami | National Geographic   \n",
       "2                       0   The Year the Earth Went Wild - Natural Disasters   \n",
       "3                       0  Trevor Noah - Most Viewed Videos of 2019 (So Far)   \n",
       "4                       1       The power of the placebo effect - Emma Bryce   \n",
       "5                       1    The mysterious science of pain - Joshua W. Pate   \n",
       "6                       1  Would you sacrifice one person to save five? -...   \n",
       "7                       1  How to make your writing funnier - Cheri Stein...   \n",
       "8                       1                    How To Fall Asleep In 2 Minutes   \n",
       "9                       0    Debunking the myths of OCD - Natascha M. Santos   \n",
       "\n",
       "                                              tokens  \n",
       "0                         [top, 7, genius, ideas, .]  \n",
       "1  [rare, video, :, japan, tsunami, |, national, ...  \n",
       "2  [the, year, the, earth, went, wild, -, natural...  \n",
       "3  [trevor, noah, -, most, viewed, videos, of, 20...  \n",
       "4  [the, power, of, the, placebo, effect, -, emma...  \n",
       "5  [the, mysterious, science, of, pain, -, joshua...  \n",
       "6  [would, you, sacrifice, one, person, to, save,...  \n",
       "7  [how, to, make, your, writing, funnier, -, che...  \n",
       "8            [how, to, fall, asleep, in, 2, minutes]  \n",
       "9  [debunking, the, myths, of, ocd, -, natascha, ...  "
      ]
     },
     "execution_count": 5,
     "metadata": {},
     "output_type": "execute_result"
    }
   ],
   "source": [
    "glove = torchtext.vocab.GloVe(name=\"6B\",cache=\"/Users/mkayeungkwan/Desktop/glove.6B\", dim=50)\n",
    "\n",
    "# Create a function to split the title on punctuations and whitespaces. Feel free to add more punctuations to this list\n",
    "def split_title(title):\n",
    "    # separate punctuations\n",
    "    title = title.replace(\".\", \" . \") \\\n",
    "                 .replace(\",\", \" , \") \\\n",
    "                 .replace(\";\", \" ; \") \\\n",
    "                 .replace(\"?\", \" ? \") \\\n",
    "                 .replace(\"!\", \" ! \") \\\n",
    "                 .replace(\":\", \" : \")\n",
    "    return title.lower().split()\n",
    "\n",
    "# Create a new column in the dataset that will hold the tokenized list of words \n",
    "tokens = [] \n",
    "\n",
    "for i in range(0,df.shape[0]):\n",
    "    tokens.append(split_title(df[\"youtubetitle\"][i]))\n",
    "    \n",
    "df[\"tokens\"] = tokens\n",
    "    \n",
    "# Explore the table again\n",
    "\n",
    "df.head(10)"
   ]
  },
  {
   "cell_type": "markdown",
   "metadata": {},
   "source": [
    "### Analyze the Data "
   ]
  },
  {
   "cell_type": "code",
   "execution_count": null,
   "metadata": {},
   "outputs": [],
   "source": [
    "# Analysis here\n",
    "for i, line in enumerate(get_data()):\n",
    "    print(line)\n",
    "\n"
   ]
  },
  {
   "cell_type": "markdown",
   "metadata": {},
   "source": [
    "### Split the Data"
   ]
  },
  {
   "cell_type": "code",
   "execution_count": 14,
   "metadata": {},
   "outputs": [
    {
     "name": "stdout",
     "output_type": "stream",
     "text": [
      "Shape of train,valid,test:  600 200 200\n"
     ]
    }
   ],
   "source": [
    "def get_index(glove_vector):\n",
    "    train, valid, test = [], [], []\n",
    "    for i, line in enumerate(get_data()):\n",
    "\n",
    "        title = line[-1]\n",
    "        idxs = [glove_vector.stoi[w]        # lookup the index of word\n",
    "                for w in split_title(title)\n",
    "                if w in glove_vector.stoi] # keep words that has an embedding\n",
    "        if not idxs: # ignore titles without any word with an embedding\n",
    "            continue\n",
    "        idxs = torch.tensor(idxs) # convert list to pytorch tensor\n",
    "        label = torch.tensor(int(line[0] == \"1\")).long()\n",
    "\n",
    "        # Separating the data into train, test, val \n",
    "        if i % 5 < 3:\n",
    "            train.append((idxs, label))\n",
    "        elif i % 5 == 4:\n",
    "            valid.append((idxs, label))\n",
    "        else:\n",
    "            test.append((idxs, label))\n",
    "    return train, valid, test\n",
    "\n",
    "train, valid, test = get_index(glove)\n",
    "print(\"Shape of train,valid,test: \",len(train),len(valid),len(test))"
   ]
  },
  {
   "cell_type": "markdown",
   "metadata": {},
   "source": [
    "### Neural Network Model"
   ]
  },
  {
   "cell_type": "code",
   "execution_count": 15,
   "metadata": {},
   "outputs": [],
   "source": [
    "class YoutubeRNN(nn.Module):\n",
    "    def __init__(self, input_size, hidden_size, num_classes):\n",
    "        super(YoutubeRNN, self).__init__()\n",
    "        self.hidden_size = hidden_size\n",
    "        self.emb = nn.Embedding.from_pretrained(glove.vectors)\n",
    "        self.rnn = nn.RNN(input_size, hidden_size, batch_first=True)\n",
    "        self.fc = nn.Linear(hidden_size, num_classes)\n",
    "    \n",
    "    def forward(self, x):\n",
    "        # 1. Look up the embedding of each word\n",
    "        x = self.emb(x)\n",
    "        # 2 . \"Forward propagate\" the RNN -- to compute hidden & output vectors\n",
    "        h0 = torch.zeros(1, x.size(0), self.hidden_size)\n",
    "        out, _ = self.rnn(x, h0)\n",
    "        # 3. Pass the output of the last time step to the classifier\n",
    "        out = self.fc(out[:, -1, :])\n",
    "        return out\n",
    "\n",
    "model = YoutubeRNN (50, 50, 2)"
   ]
  },
  {
   "cell_type": "markdown",
   "metadata": {},
   "source": [
    "### Batching"
   ]
  },
  {
   "cell_type": "code",
   "execution_count": 21,
   "metadata": {},
   "outputs": [],
   "source": [
    "# Just to show the code. We also initialize the data loaders down below.\n",
    "\n",
    "train_loader = torch.utils.data.DataLoader(train, batch_size=1, shuffle=True)\n",
    "valid_loader = torch.utils.data.DataLoader(valid, batch_size=1, shuffle=True)\n",
    "test_loader = torch.utils.data.DataLoader(test, batch_size=1, shuffle=True)"
   ]
  },
  {
   "cell_type": "markdown",
   "metadata": {},
   "source": [
    "### Get Accuracy Function \n",
    "\n",
    "Function that calculates how many of our predictions are right, giving us an accuracy score."
   ]
  },
  {
   "cell_type": "code",
   "execution_count": 18,
   "metadata": {},
   "outputs": [],
   "source": [
    "def get_accuracy(model, data_loader):\n",
    "    correct, total = 0, 0\n",
    "    for titles, labels in data_loader:\n",
    "        output = model(titles)\n",
    "        pred = output.max(1, keepdim=True)[1] # max value in the column\n",
    "        # Gets a vector of the number of labels that equaled the prediction, sums the corrects, and item converts it into an integer\n",
    "        correct += pred.eq(labels.view_as(pred)).sum().item()\n",
    "        total += labels.shape[0]\n",
    "    return correct / total"
   ]
  },
  {
   "cell_type": "markdown",
   "metadata": {},
   "source": [
    "### Training Function"
   ]
  },
  {
   "cell_type": "code",
   "execution_count": 22,
   "metadata": {},
   "outputs": [],
   "source": [
    "def train_rnn_network(model, train, valid, num_epochs=5, learning_rate=1e-5):\n",
    "    criterion = nn.CrossEntropyLoss() # because we're doing multi-classification\n",
    "    optimizer = torch.optim.Adam(model.parameters(), lr=learning_rate)\n",
    "    losses, train_acc, valid_acc = [], [], []\n",
    "    epochs = []\n",
    "    for epoch in range(num_epochs):\n",
    "        for titles, labels in train:\n",
    "            optimizer.zero_grad()\n",
    "            pred = model(titles)\n",
    "            loss = criterion(pred, labels)\n",
    "            loss.backward()\n",
    "            optimizer.step()\n",
    "        losses.append(float(loss))\n",
    "\n",
    "        epochs.append(epoch)\n",
    "        train_acc.append(get_accuracy(model, train_loader))\n",
    "        valid_acc.append(get_accuracy(model, valid_loader))\n",
    "        if ((epoch+1) % 5 ==0):\n",
    "            print(\"Epoch %d; Loss %f; Train Acc %f; Val Acc %f\" % (\n",
    "                  epoch+1, loss, train_acc[-1], valid_acc[-1]))\n",
    "    # plotting\n",
    "    plt.title(\"Training Curve\")\n",
    "    plt.plot(losses, label=\"Train\")\n",
    "    plt.xlabel(\"Epoch\")\n",
    "    plt.ylabel(\"Loss\")\n",
    "    plt.show()\n",
    "\n",
    "    plt.title(\"Training Curve\")\n",
    "    plt.plot(epochs, train_acc, label=\"Train\")\n",
    "    plt.plot(epochs, valid_acc, label=\"Validation\")\n",
    "    plt.xlabel(\"Epoch\")\n",
    "    plt.ylabel(\"Accuracy\")\n",
    "    plt.legend(loc='best')\n",
    "    plt.show()"
   ]
  },
  {
   "cell_type": "markdown",
   "metadata": {},
   "source": [
    "### Train the Model"
   ]
  },
  {
   "cell_type": "code",
   "execution_count": 23,
   "metadata": {},
   "outputs": [
    {
     "name": "stdout",
     "output_type": "stream",
     "text": [
      "Epoch 1; Loss 0.854965; Train Acc 0.703333; Val Acc 0.695000\n",
      "Epoch 2; Loss 0.560992; Train Acc 0.800000; Val Acc 0.750000\n",
      "Epoch 3; Loss 0.363420; Train Acc 0.821667; Val Acc 0.810000\n",
      "Epoch 4; Loss 0.707548; Train Acc 0.823333; Val Acc 0.795000\n",
      "Epoch 5; Loss 0.104479; Train Acc 0.836667; Val Acc 0.845000\n",
      "Epoch 6; Loss 0.218125; Train Acc 0.825000; Val Acc 0.780000\n",
      "Epoch 7; Loss 0.631250; Train Acc 0.858333; Val Acc 0.815000\n",
      "Epoch 8; Loss 0.496687; Train Acc 0.868333; Val Acc 0.800000\n",
      "Epoch 9; Loss 0.478145; Train Acc 0.875000; Val Acc 0.840000\n",
      "Epoch 10; Loss 1.015036; Train Acc 0.881667; Val Acc 0.805000\n",
      "Epoch 11; Loss 0.114827; Train Acc 0.898333; Val Acc 0.805000\n",
      "Epoch 12; Loss 0.018168; Train Acc 0.905000; Val Acc 0.800000\n",
      "Epoch 13; Loss 0.620957; Train Acc 0.920000; Val Acc 0.780000\n",
      "Epoch 14; Loss 0.131045; Train Acc 0.935000; Val Acc 0.785000\n",
      "Epoch 15; Loss 0.028602; Train Acc 0.941667; Val Acc 0.765000\n",
      "Epoch 16; Loss 0.001691; Train Acc 0.950000; Val Acc 0.765000\n",
      "Epoch 17; Loss 0.259001; Train Acc 0.941667; Val Acc 0.780000\n",
      "Epoch 18; Loss 1.391716; Train Acc 0.966667; Val Acc 0.775000\n",
      "Epoch 19; Loss 0.028322; Train Acc 0.976667; Val Acc 0.770000\n",
      "Epoch 20; Loss 0.000843; Train Acc 0.963333; Val Acc 0.735000\n"
     ]
    },
    {
     "data": {
      "image/png": "[encoded data removed]",
      "text/plain": [
       "<Figure size 432x288 with 1 Axes>"
      ]
     },
     "metadata": {
      "needs_background": "light"
     },
     "output_type": "display_data"
    },
    {
     "data": {
      "image/png": "[encoded data removed]",
      "text/plain": [
       "<Figure size 432x288 with 1 Axes>"
      ]
     },
     "metadata": {
      "needs_background": "light"
     },
     "output_type": "display_data"
    },
    {
     "data": {
      "text/plain": [
       "0.815"
      ]
     },
     "execution_count": 23,
     "metadata": {},
     "output_type": "execute_result"
    }
   ],
   "source": [
    "model = YoutubeRNN(input_size=50, hidden_size=50, num_classes=2)\n",
    "\n",
    "train_rnn_network(model, train_loader, valid_loader, num_epochs=20, learning_rate=2e-4)\n",
    "get_accuracy(model, test_loader)"
   ]
  }
 ],
 "metadata": {
  "kernelspec": {
   "display_name": "Python 3",
   "language": "python",
   "name": "python3"
  },
  "language_info": {
   "codemirror_mode": {
    "name": "ipython",
    "version": 3
   },
   "file_extension": ".py",
   "mimetype": "text/x-python",
   "name": "python",
   "nbconvert_exporter": "python",
   "pygments_lexer": "ipython3",
   "version": "3.7.4"
  }
 },
 "nbformat": 4,
 "nbformat_minor": 4
}